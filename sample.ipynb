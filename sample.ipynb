{
 "cells": [
  {
   "cell_type": "code",
   "execution_count": 1,
   "id": "initial_id",
   "metadata": {
    "collapsed": true,
    "ExecuteTime": {
     "end_time": "2024-01-24T18:11:23.729979323Z",
     "start_time": "2024-01-24T18:11:23.068840304Z"
    }
   },
   "outputs": [],
   "source": [
    "import personal_token\n",
    "from tinkoff.invest import Client, InstrumentStatus, SharesResponse, InstrumentIdType\n",
    "import pandas as pd\n",
    "import openpyxl"
   ]
  },
  {
   "cell_type": "code",
   "outputs": [],
   "source": [
    "TOKEN = personal_token.token"
   ],
   "metadata": {
    "collapsed": false,
    "ExecuteTime": {
     "end_time": "2024-01-24T18:11:26.437694074Z",
     "start_time": "2024-01-24T18:11:26.325618195Z"
    }
   },
   "id": "db0905eb0d6fde51",
   "execution_count": 2
  },
  {
   "cell_type": "code",
   "outputs": [],
   "source": [
    "def get_favourite_bonds():\n",
    "    favourites_table = pd.DataFrame(columns=['figi', 'ticker', 'class_code', 'isin', 'instrument_type', 'otc_flag', 'api_trade_available_flag','instrument_kind'])\n",
    "    favourites_table_list = [None] * 8\n",
    "\n",
    "    with Client(TOKEN) as client:\n",
    "        my_favourites = client.instruments.get_favorites()\n",
    "        \n",
    "        for i in my_favourites.favorite_instruments:\n",
    "            favourites_table_list[0] = (i.figi)\n",
    "            favourites_table_list[1] = (i.ticker)\n",
    "            favourites_table_list[2] = (i.class_code)\n",
    "            favourites_table_list[3] = (i.isin)\n",
    "            favourites_table_list[4] = (i.instrument_type)\n",
    "            favourites_table_list[5] = (i.otc_flag)\n",
    "            favourites_table_list[6] = (i.api_trade_available_flag)\n",
    "            favourites_table_list[7] = (i.instrument_kind)\n",
    "\n",
    "            if i.instrument_type == 'bond':\n",
    "                favourites_table.loc[len(favourites_table)] = favourites_table_list\n",
    "    # favourites_table\n",
    "    return favourites_table\n",
    "    # favourites_table.to_excel('favourites.xlsx', engine='openpyxl', index=False)"
   ],
   "metadata": {
    "collapsed": false,
    "ExecuteTime": {
     "end_time": "2024-01-24T18:30:35.169905022Z",
     "start_time": "2024-01-24T18:30:35.164655207Z"
    }
   },
   "id": "a9aeddb440c911bd",
   "execution_count": 21
  },
  {
   "cell_type": "code",
   "outputs": [],
   "source": [
    "favourites_table = get_favourite_bonds()"
   ],
   "metadata": {
    "collapsed": false,
    "ExecuteTime": {
     "end_time": "2024-01-24T18:30:36.607234650Z",
     "start_time": "2024-01-24T18:30:35.675891536Z"
    }
   },
   "id": "589e15e032934635",
   "execution_count": 22
  },
  {
   "cell_type": "code",
   "outputs": [
    {
     "data": {
      "text/plain": "             figi        ticker class_code          isin instrument_type  \\\n0    TCS00A1074Q1  RU000A1074Q1       TQCB  RU000A1074Q1            bond   \n1    TCS00A106Z46  RU000A106Z46       TQCB  RU000A106Z46            bond   \n2    TCS00A106ZU6  RU000A106ZU6       TQCB  RU000A106ZU6            bond   \n3    TCS00A1070X5  RU000A1070X5       TQCB  RU000A1070X5            bond   \n4    BBG00JS9D851  XS1760786340       TQOD  XS1760786340            bond   \n..            ...           ...        ...           ...             ...   \n198  BBG01HQGYGR5  RU000A106LL5       TQCB  RU000A106LL5            bond   \n199  TCS00A105YH8  RU000A105YH8       TQCB  RU000A105YH8            bond   \n200  TCS00A1042W6  RU000A1042W6       TQCB  RU000A1042W6            bond   \n201  BBG007Z5F748  SU29009RMFS6       TQOB  RU000A0JV4N8            bond   \n202  BBG007Z5FFL1  SU29010RMFS4       TQOB  RU000A0JV4Q1            bond   \n\n     otc_flag  api_trade_available_flag  instrument_kind  \n0       False                      True                1  \n1       False                      True                1  \n2       False                      True                1  \n3       False                      True                1  \n4       False                      True                1  \n..        ...                       ...              ...  \n198     False                      True                1  \n199     False                      True                1  \n200     False                      True                1  \n201     False                      True                1  \n202     False                      True                1  \n\n[203 rows x 8 columns]",
      "text/html": "<div>\n<style scoped>\n    .dataframe tbody tr th:only-of-type {\n        vertical-align: middle;\n    }\n\n    .dataframe tbody tr th {\n        vertical-align: top;\n    }\n\n    .dataframe thead th {\n        text-align: right;\n    }\n</style>\n<table border=\"1\" class=\"dataframe\">\n  <thead>\n    <tr style=\"text-align: right;\">\n      <th></th>\n      <th>figi</th>\n      <th>ticker</th>\n      <th>class_code</th>\n      <th>isin</th>\n      <th>instrument_type</th>\n      <th>otc_flag</th>\n      <th>api_trade_available_flag</th>\n      <th>instrument_kind</th>\n    </tr>\n  </thead>\n  <tbody>\n    <tr>\n      <th>0</th>\n      <td>TCS00A1074Q1</td>\n      <td>RU000A1074Q1</td>\n      <td>TQCB</td>\n      <td>RU000A1074Q1</td>\n      <td>bond</td>\n      <td>False</td>\n      <td>True</td>\n      <td>1</td>\n    </tr>\n    <tr>\n      <th>1</th>\n      <td>TCS00A106Z46</td>\n      <td>RU000A106Z46</td>\n      <td>TQCB</td>\n      <td>RU000A106Z46</td>\n      <td>bond</td>\n      <td>False</td>\n      <td>True</td>\n      <td>1</td>\n    </tr>\n    <tr>\n      <th>2</th>\n      <td>TCS00A106ZU6</td>\n      <td>RU000A106ZU6</td>\n      <td>TQCB</td>\n      <td>RU000A106ZU6</td>\n      <td>bond</td>\n      <td>False</td>\n      <td>True</td>\n      <td>1</td>\n    </tr>\n    <tr>\n      <th>3</th>\n      <td>TCS00A1070X5</td>\n      <td>RU000A1070X5</td>\n      <td>TQCB</td>\n      <td>RU000A1070X5</td>\n      <td>bond</td>\n      <td>False</td>\n      <td>True</td>\n      <td>1</td>\n    </tr>\n    <tr>\n      <th>4</th>\n      <td>BBG00JS9D851</td>\n      <td>XS1760786340</td>\n      <td>TQOD</td>\n      <td>XS1760786340</td>\n      <td>bond</td>\n      <td>False</td>\n      <td>True</td>\n      <td>1</td>\n    </tr>\n    <tr>\n      <th>...</th>\n      <td>...</td>\n      <td>...</td>\n      <td>...</td>\n      <td>...</td>\n      <td>...</td>\n      <td>...</td>\n      <td>...</td>\n      <td>...</td>\n    </tr>\n    <tr>\n      <th>198</th>\n      <td>BBG01HQGYGR5</td>\n      <td>RU000A106LL5</td>\n      <td>TQCB</td>\n      <td>RU000A106LL5</td>\n      <td>bond</td>\n      <td>False</td>\n      <td>True</td>\n      <td>1</td>\n    </tr>\n    <tr>\n      <th>199</th>\n      <td>TCS00A105YH8</td>\n      <td>RU000A105YH8</td>\n      <td>TQCB</td>\n      <td>RU000A105YH8</td>\n      <td>bond</td>\n      <td>False</td>\n      <td>True</td>\n      <td>1</td>\n    </tr>\n    <tr>\n      <th>200</th>\n      <td>TCS00A1042W6</td>\n      <td>RU000A1042W6</td>\n      <td>TQCB</td>\n      <td>RU000A1042W6</td>\n      <td>bond</td>\n      <td>False</td>\n      <td>True</td>\n      <td>1</td>\n    </tr>\n    <tr>\n      <th>201</th>\n      <td>BBG007Z5F748</td>\n      <td>SU29009RMFS6</td>\n      <td>TQOB</td>\n      <td>RU000A0JV4N8</td>\n      <td>bond</td>\n      <td>False</td>\n      <td>True</td>\n      <td>1</td>\n    </tr>\n    <tr>\n      <th>202</th>\n      <td>BBG007Z5FFL1</td>\n      <td>SU29010RMFS4</td>\n      <td>TQOB</td>\n      <td>RU000A0JV4Q1</td>\n      <td>bond</td>\n      <td>False</td>\n      <td>True</td>\n      <td>1</td>\n    </tr>\n  </tbody>\n</table>\n<p>203 rows × 8 columns</p>\n</div>"
     },
     "execution_count": 26,
     "metadata": {},
     "output_type": "execute_result"
    }
   ],
   "source": [
    "favourites_table"
   ],
   "metadata": {
    "collapsed": false,
    "ExecuteTime": {
     "end_time": "2024-01-24T18:31:13.712989568Z",
     "start_time": "2024-01-24T18:31:13.551119940Z"
    }
   },
   "id": "f1721e47f944ff9e",
   "execution_count": 26
  },
  {
   "cell_type": "code",
   "outputs": [],
   "source": [
    "def get_bonds_price(figi, instrument_type):\n",
    "    with (Client(TOKEN) as client):\n",
    "        bond_price = client.market_data.get_last_prices(figi=[figi], instrument_id=[instrument_type])\n",
    "\n",
    "        units = bond_price.last_prices[0].price.units\n",
    "        nano = bond_price.last_prices[0].price.nano\n",
    "        \n",
    "        price = float(f\"{units}.{str(nano)}\")\n",
    "        return price"
   ],
   "metadata": {
    "collapsed": false,
    "ExecuteTime": {
     "end_time": "2024-01-24T18:41:28.530106553Z",
     "start_time": "2024-01-24T18:41:28.481039409Z"
    }
   },
   "id": "8299c230c42a788",
   "execution_count": 44
  },
  {
   "cell_type": "code",
   "outputs": [],
   "source": [
    "favourites_table['price'] = float(0)\n",
    "def write_price_in_df():\n",
    "    for i in range(0, len(favourites_table)):\n",
    "        figi = favourites_table.iloc[i]['figi']\n",
    "        instrument_type = favourites_table.iloc[i]['instrument_type']\n",
    "        \n",
    "        price = get_bonds_price(figi, instrument_type)\n",
    "        favourites_table.loc[i, 'price'] = price"
   ],
   "metadata": {
    "collapsed": false,
    "ExecuteTime": {
     "end_time": "2024-01-24T19:12:40.572301295Z",
     "start_time": "2024-01-24T19:12:40.530561025Z"
    }
   },
   "id": "2a877c6f2c15ed7a",
   "execution_count": 109
  },
  {
   "cell_type": "code",
   "outputs": [],
   "source": [
    "write_price_in_df()"
   ],
   "metadata": {
    "collapsed": false,
    "ExecuteTime": {
     "end_time": "2024-01-24T19:14:34.489493701Z",
     "start_time": "2024-01-24T19:12:41.953117853Z"
    }
   },
   "id": "9cf092087745ba9b",
   "execution_count": 110
  },
  {
   "cell_type": "code",
   "outputs": [
    {
     "data": {
      "text/plain": "             figi        ticker class_code          isin instrument_type  \\\n0    TCS00A1074Q1  RU000A1074Q1       TQCB  RU000A1074Q1            bond   \n1    TCS00A106Z46  RU000A106Z46       TQCB  RU000A106Z46            bond   \n2    TCS00A106ZU6  RU000A106ZU6       TQCB  RU000A106ZU6            bond   \n3    TCS00A1070X5  RU000A1070X5       TQCB  RU000A1070X5            bond   \n4    BBG00JS9D851  XS1760786340       TQOD  XS1760786340            bond   \n..            ...           ...        ...           ...             ...   \n198  BBG01HQGYGR5  RU000A106LL5       TQCB  RU000A106LL5            bond   \n199  TCS00A105YH8  RU000A105YH8       TQCB  RU000A105YH8            bond   \n200  TCS00A1042W6  RU000A1042W6       TQCB  RU000A1042W6            bond   \n201  BBG007Z5F748  SU29009RMFS6       TQOB  RU000A0JV4N8            bond   \n202  BBG007Z5FFL1  SU29010RMFS4       TQOB  RU000A0JV4Q1            bond   \n\n     otc_flag  api_trade_available_flag  instrument_kind   price  \n0       False                      True                1  101.69  \n1       False                      True                1  100.27  \n2       False                      True                1  100.57  \n3       False                      True                1  100.48  \n4       False                      True                1   80.40  \n..        ...                       ...              ...     ...  \n198     False                      True                1  101.40  \n199     False                      True                1  101.60  \n200     False                      True                1  101.24  \n201     False                      True                1  103.33  \n202     False                      True                1  104.45  \n\n[203 rows x 9 columns]",
      "text/html": "<div>\n<style scoped>\n    .dataframe tbody tr th:only-of-type {\n        vertical-align: middle;\n    }\n\n    .dataframe tbody tr th {\n        vertical-align: top;\n    }\n\n    .dataframe thead th {\n        text-align: right;\n    }\n</style>\n<table border=\"1\" class=\"dataframe\">\n  <thead>\n    <tr style=\"text-align: right;\">\n      <th></th>\n      <th>figi</th>\n      <th>ticker</th>\n      <th>class_code</th>\n      <th>isin</th>\n      <th>instrument_type</th>\n      <th>otc_flag</th>\n      <th>api_trade_available_flag</th>\n      <th>instrument_kind</th>\n      <th>price</th>\n    </tr>\n  </thead>\n  <tbody>\n    <tr>\n      <th>0</th>\n      <td>TCS00A1074Q1</td>\n      <td>RU000A1074Q1</td>\n      <td>TQCB</td>\n      <td>RU000A1074Q1</td>\n      <td>bond</td>\n      <td>False</td>\n      <td>True</td>\n      <td>1</td>\n      <td>101.69</td>\n    </tr>\n    <tr>\n      <th>1</th>\n      <td>TCS00A106Z46</td>\n      <td>RU000A106Z46</td>\n      <td>TQCB</td>\n      <td>RU000A106Z46</td>\n      <td>bond</td>\n      <td>False</td>\n      <td>True</td>\n      <td>1</td>\n      <td>100.27</td>\n    </tr>\n    <tr>\n      <th>2</th>\n      <td>TCS00A106ZU6</td>\n      <td>RU000A106ZU6</td>\n      <td>TQCB</td>\n      <td>RU000A106ZU6</td>\n      <td>bond</td>\n      <td>False</td>\n      <td>True</td>\n      <td>1</td>\n      <td>100.57</td>\n    </tr>\n    <tr>\n      <th>3</th>\n      <td>TCS00A1070X5</td>\n      <td>RU000A1070X5</td>\n      <td>TQCB</td>\n      <td>RU000A1070X5</td>\n      <td>bond</td>\n      <td>False</td>\n      <td>True</td>\n      <td>1</td>\n      <td>100.48</td>\n    </tr>\n    <tr>\n      <th>4</th>\n      <td>BBG00JS9D851</td>\n      <td>XS1760786340</td>\n      <td>TQOD</td>\n      <td>XS1760786340</td>\n      <td>bond</td>\n      <td>False</td>\n      <td>True</td>\n      <td>1</td>\n      <td>80.40</td>\n    </tr>\n    <tr>\n      <th>...</th>\n      <td>...</td>\n      <td>...</td>\n      <td>...</td>\n      <td>...</td>\n      <td>...</td>\n      <td>...</td>\n      <td>...</td>\n      <td>...</td>\n      <td>...</td>\n    </tr>\n    <tr>\n      <th>198</th>\n      <td>BBG01HQGYGR5</td>\n      <td>RU000A106LL5</td>\n      <td>TQCB</td>\n      <td>RU000A106LL5</td>\n      <td>bond</td>\n      <td>False</td>\n      <td>True</td>\n      <td>1</td>\n      <td>101.40</td>\n    </tr>\n    <tr>\n      <th>199</th>\n      <td>TCS00A105YH8</td>\n      <td>RU000A105YH8</td>\n      <td>TQCB</td>\n      <td>RU000A105YH8</td>\n      <td>bond</td>\n      <td>False</td>\n      <td>True</td>\n      <td>1</td>\n      <td>101.60</td>\n    </tr>\n    <tr>\n      <th>200</th>\n      <td>TCS00A1042W6</td>\n      <td>RU000A1042W6</td>\n      <td>TQCB</td>\n      <td>RU000A1042W6</td>\n      <td>bond</td>\n      <td>False</td>\n      <td>True</td>\n      <td>1</td>\n      <td>101.24</td>\n    </tr>\n    <tr>\n      <th>201</th>\n      <td>BBG007Z5F748</td>\n      <td>SU29009RMFS6</td>\n      <td>TQOB</td>\n      <td>RU000A0JV4N8</td>\n      <td>bond</td>\n      <td>False</td>\n      <td>True</td>\n      <td>1</td>\n      <td>103.33</td>\n    </tr>\n    <tr>\n      <th>202</th>\n      <td>BBG007Z5FFL1</td>\n      <td>SU29010RMFS4</td>\n      <td>TQOB</td>\n      <td>RU000A0JV4Q1</td>\n      <td>bond</td>\n      <td>False</td>\n      <td>True</td>\n      <td>1</td>\n      <td>104.45</td>\n    </tr>\n  </tbody>\n</table>\n<p>203 rows × 9 columns</p>\n</div>"
     },
     "execution_count": 111,
     "metadata": {},
     "output_type": "execute_result"
    }
   ],
   "source": [
    "favourites_table"
   ],
   "metadata": {
    "collapsed": false,
    "ExecuteTime": {
     "end_time": "2024-01-24T19:14:34.517529174Z",
     "start_time": "2024-01-24T19:14:34.499675981Z"
    }
   },
   "id": "7cba709c6bf8140f",
   "execution_count": 111
  },
  {
   "cell_type": "code",
   "outputs": [],
   "source": [
    "if __name__ == \"__main__\":\n",
    "    pass"
   ],
   "metadata": {
    "collapsed": false,
    "ExecuteTime": {
     "end_time": "2024-01-24T18:42:11.633412074Z",
     "start_time": "2024-01-24T18:42:11.630970088Z"
    }
   },
   "id": "55516304840e6b5e",
   "execution_count": 47
  }
 ],
 "metadata": {
  "kernelspec": {
   "display_name": "Python 3",
   "language": "python",
   "name": "python3"
  },
  "language_info": {
   "codemirror_mode": {
    "name": "ipython",
    "version": 2
   },
   "file_extension": ".py",
   "mimetype": "text/x-python",
   "name": "python",
   "nbconvert_exporter": "python",
   "pygments_lexer": "ipython2",
   "version": "2.7.6"
  }
 },
 "nbformat": 4,
 "nbformat_minor": 5
}
