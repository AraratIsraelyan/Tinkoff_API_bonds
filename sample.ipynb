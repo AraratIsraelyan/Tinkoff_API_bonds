{
 "cells": [
  {
   "cell_type": "code",
   "execution_count": 14,
   "id": "initial_id",
   "metadata": {
    "collapsed": true,
    "ExecuteTime": {
     "end_time": "2024-01-24T13:08:52.833670900Z",
     "start_time": "2024-01-24T13:08:52.375411100Z"
    }
   },
   "outputs": [],
   "source": [
    "import personal_token\n",
    "from tinkoff.invest import Client, InstrumentStatus, SharesResponse, InstrumentIdType\n",
    "import pandas as pd\n",
    "import openpyxl"
   ]
  },
  {
   "cell_type": "code",
   "outputs": [],
   "source": [
    "TOKEN = personal_token.token"
   ],
   "metadata": {
    "collapsed": false,
    "ExecuteTime": {
     "end_time": "2024-01-24T13:08:36.621606900Z",
     "start_time": "2024-01-24T13:08:36.595155Z"
    }
   },
   "id": "db0905eb0d6fde51",
   "execution_count": 10
  },
  {
   "cell_type": "code",
   "outputs": [],
   "source": [
    "def iam_get_favourites():\n",
    "    favourites_table = pd.DataFrame(columns=['figi',\n",
    "                                             'ticker',\n",
    "                                             'class_code',\n",
    "                                             'isin',\n",
    "                                             'instrument_type',\n",
    "                                             'otc_flag',\n",
    "                                             'api_trade_available_flag',\n",
    "                                             'instrument_kind'])\n",
    "    favourites_table_list = [None] * 8\n",
    "\n",
    "    with Client(TOKEN) as client:\n",
    "        my_favourites = client.instruments.get_favorites()\n",
    "        for i in my_favourites.favorite_instruments:\n",
    "            favourites_table_list[0] = (i.figi)\n",
    "            favourites_table_list[1] = (i.ticker)\n",
    "            favourites_table_list[2] = (i.class_code)\n",
    "            favourites_table_list[3] = (i.isin)\n",
    "            favourites_table_list[4] = (i.instrument_type)\n",
    "            favourites_table_list[5] = (i.otc_flag)\n",
    "            favourites_table_list[6] = (i.api_trade_available_flag)\n",
    "            favourites_table_list[7] = (i.instrument_kind)\n",
    "\n",
    "            if i.instrument_type == 'bond':\n",
    "                favourites_table.loc[len(favourites_table)] = favourites_table_list\n",
    "\n",
    "    favourites_table.to_excel('favourites.xlsx', engine='openpyxl', index=False)"
   ],
   "metadata": {
    "collapsed": false,
    "ExecuteTime": {
     "end_time": "2024-01-24T13:16:10.149070500Z",
     "start_time": "2024-01-24T13:16:10.119851100Z"
    }
   },
   "id": "81da6fb1a4ac1f92",
   "execution_count": 23
  },
  {
   "cell_type": "raw",
   "source": [
    "TCS00A104WS2\tRU000A104WS2\tTQCB\tRU000A104WS2\tbond\n",
    "WHOOSH"
   ],
   "metadata": {
    "collapsed": false
   },
   "id": "8c5a816d8fb0d530"
  },
  {
   "cell_type": "code",
   "outputs": [],
   "source": [
    "def iam_get_bonds(figi,class_code, isin, instrument_type ):\n",
    "    with (Client(TOKEN) as client):\n",
    "        bond_price = client.market_data.get_last_prices(figi=[figi],instrument_id=[instrument_type])\n",
    "        \n",
    "        bonds_info = client.instruments.bond_by(id_type = InstrumentIdType.INSTRUMENT_ID_TYPE_FIGI,\n",
    "                                                class_code = class_code, id = figi)\n",
    "\n",
    "        units = bond_price.last_prices[0].price.units\n",
    "        nano = bond_price.last_prices[0].price.nano\n",
    "        price = float(f\"{units}.{str(nano)}\")\n",
    "        # print(bond_price.last_prices[0])\n",
    "        for i in bond_price.last_prices:\n",
    "            print(i.figi)\n",
    "            print(price)\n",
    "            print(i.time)\n",
    "            print(i.instrument_uid)\n",
    "            break"
   ],
   "metadata": {
    "collapsed": false,
    "ExecuteTime": {
     "end_time": "2024-01-24T14:36:37.987022400Z",
     "start_time": "2024-01-24T14:36:37.969114400Z"
    }
   },
   "id": "8299c230c42a788",
   "execution_count": 125
  },
  {
   "cell_type": "code",
   "outputs": [
    {
     "name": "stdout",
     "output_type": "stream",
     "text": [
      "TCS00A104WS2\n",
      "98.71\n",
      "2024-01-24 14:30:47.285113+00:00\n",
      "257bdd22-d163-4557-ad20-daa430e7a26b\n"
     ]
    }
   ],
   "source": [
    "if __name__ == \"__main__\":\n",
    "    # iam_get_favourites()\n",
    "    iam_get_bonds('TCS00A104WS2', 'TQCB', 'RU000A104WS2', 'bond')\n",
    "    # iam_get_favourites()"
   ],
   "metadata": {
    "collapsed": false,
    "ExecuteTime": {
     "end_time": "2024-01-24T14:36:40.467723300Z",
     "start_time": "2024-01-24T14:36:38.589639500Z"
    }
   },
   "id": "55516304840e6b5e",
   "execution_count": 126
  },
  {
   "cell_type": "code",
   "outputs": [],
   "source": [],
   "metadata": {
    "collapsed": false,
    "ExecuteTime": {
     "end_time": "2024-01-24T14:34:58.123280100Z",
     "start_time": "2024-01-24T14:34:58.116732500Z"
    }
   },
   "id": "d6c36b1db01df287",
   "execution_count": 111
  },
  {
   "cell_type": "code",
   "outputs": [],
   "source": [],
   "metadata": {
    "collapsed": false
   },
   "id": "cac3f4aaea9443"
  }
 ],
 "metadata": {
  "kernelspec": {
   "display_name": "Python 3",
   "language": "python",
   "name": "python3"
  },
  "language_info": {
   "codemirror_mode": {
    "name": "ipython",
    "version": 2
   },
   "file_extension": ".py",
   "mimetype": "text/x-python",
   "name": "python",
   "nbconvert_exporter": "python",
   "pygments_lexer": "ipython2",
   "version": "2.7.6"
  }
 },
 "nbformat": 4,
 "nbformat_minor": 5
}
